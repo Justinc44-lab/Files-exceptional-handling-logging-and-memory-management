{
  "nbformat": 4,
  "nbformat_minor": 0,
  "metadata": {
    "colab": {
      "provenance": []
    },
    "kernelspec": {
      "name": "python3",
      "display_name": "Python 3"
    },
    "language_info": {
      "name": "python"
    }
  },
  "cells": [
    {
      "cell_type": "markdown",
      "source": [
        "1. What is the difference between interpreted and compiled languages ?\n",
        ">>> The key difference between interpreted and compiled languages lies in how the code is executed:\n",
        "\n",
        "- **Compiled Languages**: In compiled languages (e.g., C, C++), the source code is translated into machine code (binary) by a compiler before execution. The resulting machine code is then directly executed by the computer's hardware. This usually results in faster execution.\n",
        "\n",
        "- **Interpreted Languages**: In interpreted languages (e.g., Python, JavaScript), the source code is executed line-by-line by an interpreter at runtime, without the need for a separate compilation step. This can make the execution slower compared to compiled languages, but offers more flexibility and easier debugging.\n",
        "\n",
        "2. What is exception handling in Python ?\n",
        ">>> **Exception handling in Python** is a mechanism to manage runtime errors, allowing the program to continue executing even if an error occurs. It is done using the `try`, `except`, `else`, and `finally` blocks:\n",
        "\n",
        "- **`try`**: Contains the code that might raise an exception.\n",
        "- **`except`**: Catches and handles the exception if one occurs.\n",
        "- **`else`**: Executes if no exception occurs in the `try` block.\n",
        "- **`finally`**: Executes regardless of whether an exception occurs or not, often used for cleanup.\n",
        "\n",
        "Example:\n",
        "try:\n",
        "    x = 10 / 0\n",
        "except ZeroDivisionError:\n",
        "    print(\"Cannot divide by zero!\")\n",
        "else:\n",
        "    print(\"No error occurred!\")\n",
        "finally:\n",
        "    print(\"This always runs.\")\n",
        "In this example, the `ZeroDivisionError` is caught, and the program continues to run.\n",
        "\n",
        "3. What is the purpose of the finally block in exception handling?\n",
        ">>> The purpose of the **`finally`** block in exception handling is to ensure that certain code is executed **regardless of whether an exception occurs or not**. It is typically used for cleanup actions, such as closing files, releasing resources, or closing network connections, ensuring that these actions happen even if an error occurs in the `try` or `except` blocks.\n",
        "\n",
        "Example:\n",
        "try:\n",
        "    file = open(\"data.txt\", \"r\")\n",
        "    # Some file operations\n",
        "except FileNotFoundError:\n",
        "    print(\"File not found.\")\n",
        "finally:\n",
        "    file.close()  # This will run whether an exception occurred or not\n",
        "In this case, `file.close()` will always execute, ensuring the file is properly closed.\n",
        "\n",
        "4. What is logging in Python ?\n",
        ">>> **Logging in Python** is a module used to record messages about the program's execution. It helps track events, errors, and other information with different severity levels (DEBUG, INFO, WARNING, ERROR, CRITICAL).\n",
        "\n",
        "Example:\n",
        "import logging\n",
        "logging.basicConfig(level=logging.INFO)\n",
        "logging.info(\"This is an info message.\")\n",
        "It is useful for debugging and monitoring applications.\n",
        "\n",
        "5. What is the significance of the __del__ method in Python?\n",
        ">>> The **`__del__`** method in Python is used for **cleanup** before an object is deleted. It is called when an object is about to be destroyed, typically to release resources like files or connections.\n",
        "\n",
        "Example:\n",
        "class MyClass:\n",
        "    def __del__(self):\n",
        "        print(\"Object is being deleted\")\n",
        "obj = MyClass()\n",
        "del obj\n",
        "\n",
        "6. What is the difference between import and from ... import in Python?\n",
        ">>> In Python:\n",
        "\n",
        "- **`import`**: Imports the entire module. To access functions or variables, you need to prefix them with the module name.\n",
        "\n",
        "  Example:\n",
        "  ```python\n",
        "  import math\n",
        "  print(math.sqrt(16))\n",
        "  ```\n",
        "\n",
        "- **`from ... import`**: Imports specific functions, classes, or variables from a module directly, so you don't need to prefix them.\n",
        "\n",
        "  Example:\n",
        "  from math import sqrt\n",
        "  print(sqrt(16))\n",
        "In short, `import` brings in the whole module, while `from ... import` brings in specific elements from the module.\n",
        "\n",
        "7.  How can you handle multiple exceptions in Python ?\n",
        ">>> You can handle multiple exceptions in Python by using multiple `except` blocks or by specifying multiple exceptions in a single `except` block.\n",
        "\n",
        "a **Multiple `except` blocks**:\n",
        "   try:\n",
        "       # Code that may raise exceptions\n",
        "   except (ExceptionType1):\n",
        "       # Handle ExceptionType1\n",
        "   except (ExceptionType2):\n",
        "       # Handle ExceptionType2\n",
        "b **Single `except` block with multiple exceptions**:\n",
        "   try:\n",
        "       # Code that may raise exceptions\n",
        "   except (ExceptionType1, ExceptionType2):\n",
        "       # Handle both exceptions\n",
        "Example:\n",
        "try:\n",
        "    x = 10 / 0\n",
        "    y = int(\"abc\")\n",
        "except (ZeroDivisionError, ValueError):\n",
        "    print(\"Caught an error!\")\n",
        "This way, you can catch and handle multiple exceptions efficiently.\n",
        "\n",
        "8. What is the purpose of the with statement when handling files in Python?\n",
        ">>> The **`with`** statement in Python is used for **resource management** when handling files (or other resources) to ensure that they are properly opened and closed, even if an error occurs. It automatically takes care of closing the file after the block of code is executed.\n",
        "\n",
        "Example:\n",
        "with open(\"file.txt\", \"r\") as file:\n",
        "    content = file.read()\n",
        "# File is automatically closed after the block\n",
        "In short, the `with` statement simplifies file handling and ensures proper cleanup.\n",
        "\n",
        "9. What is the difference between multithreading and multiprocessing?\n",
        ">>> **Multithreading** and **multiprocessing** are both techniques for executing tasks concurrently, but they differ in how they handle tasks:\n",
        "\n",
        "- **Multithreading**: Uses multiple threads within a single process, sharing the same memory space. It is suited for I/O-bound tasks (like reading files or network requests), as threads can run concurrently but may be limited by Python's Global Interpreter Lock (GIL).\n",
        "\n",
        "- **Multiprocessing**: Uses multiple processes, each with its own memory space. It is ideal for CPU-bound tasks (like heavy computations), as processes run independently and can fully utilize multiple CPU cores.\n",
        "\n",
        "In short:\n",
        "- **Multithreading**: Better for I/O-bound tasks, limited by the GIL.\n",
        "- **Multiprocessing**: Better for CPU-bound tasks, no GIL limitation.\n",
        "\n",
        "10. What are the advantages of using logging in a program?\n",
        ">>> The advantages of using **logging** in a program are:\n",
        "\n",
        "a **Tracking and Debugging**: Logs provide detailed information about the program’s execution, helping to identify issues and bugs.\n",
        "b **Error Monitoring**: Logs capture errors and exceptions, making it easier to spot problems without interrupting the program.\n",
        "c **Customization**: Logs can be configured for different levels of detail (e.g., DEBUG, INFO, ERROR).\n",
        "d **Persistence**: Logs can be saved to files or external systems for long-term monitoring and analysis.\n",
        "e **Non-intrusive**: Logging allows you to monitor a program's behavior without altering its flow or requiring user input.\n",
        "\n",
        "In short, logging helps improve reliability, traceability, and maintenance of your program.\n",
        "\n",
        "11. What is memory management in Python?\n",
        ">>> **Memory management in Python** is automatic and involves:\n",
        "\n",
        "a **Reference Counting**: Objects are deleted when no references remain.\n",
        "b **Garbage Collection**: Unused memory, especially from circular references, is cleaned up.\n",
        "c **Memory Pools**: Python uses a private heap to manage memory more efficiently.\n",
        "\n",
        "In short, Python automatically manages memory, freeing developers from manual handling.\n",
        "\n",
        "12. What are the basic steps involved in exception handling in Python?\n",
        ">>> The basic steps in exception handling in Python are:\n",
        "\n",
        "a **`try` block**: Write the code that might raise an exception.\n",
        "b **`except` block**: Handle the exception if it occurs.\n",
        "c **`else` block** (optional): Execute if no exception occurs.\n",
        "d **`finally` block** (optional): Execute code regardless of whether an exception occurs, typically for cleanup.\n",
        "\n",
        "Example:\n",
        "try:\n",
        "    # Code that may raise an exception\n",
        "except SomeException:\n",
        "    # Handle the exception\n",
        "else:\n",
        "    # Code to run if no exception occurs\n",
        "finally:\n",
        "    # Cleanup code\n",
        "\n",
        "13. Why is memory management important in Python?\n",
        ">>> **Memory management in Python** is important because it ensures efficient use of memory, prevents memory leaks, and helps maintain performance. By automatically handling memory allocation and deallocation (via reference counting and garbage collection), Python frees developers from manual memory management, reducing errors and optimizing resource usage.\n",
        "\n",
        "14. What is the role of try and except in exception handling?\n",
        ">>> In exception handling, the **`try`** block contains the code that might raise an exception, and the **`except`** block catches and handles the exception if it occurs.\n",
        "\n",
        "In short:\n",
        "- **`try`**: Executes code that may cause an error.\n",
        "- **`except`**: Handles the error if it occurs, preventing the program from crashing.\n",
        "\n",
        "15. How does Python's garbage collection system work?\n",
        ">>>Python's garbage collection system works by automatically managing memory through two main techniques:\n",
        "\n",
        "a **Reference Counting**: Each object has a reference count, and when the count reaches zero (no references to the object), the memory is freed.\n",
        "\n",
        "b **Garbage Collection**: Python's garbage collector detects and cleans up **circular references** (objects referring to each other) that reference counting alone cannot handle.\n",
        "\n",
        "In short, Python automatically reclaims memory for unused objects, ensuring efficient memory management.\n",
        "\n",
        "16. What is the purpose of the else block in exception handling?\n",
        ">>> The **`else`** block in exception handling is executed if no exception occurs in the **`try`** block. It allows you to run code that should only execute when the **`try`** block is successful.\n",
        "\n",
        "In short, the **`else`** block runs when no exception is raised in the **`try`** block.\n",
        "\n",
        "17. What are the common logging levels in Python?\n",
        ">>> The common logging levels in Python are:\n",
        "\n",
        "a. **DEBUG**: Detailed information, typically useful for diagnosing issues.\n",
        "b. **INFO**: General information about program execution.\n",
        "c. **WARNING**: Indications of potential problems or unexpected behavior.\n",
        "d. **ERROR**: Errors that affect the program's functionality but don't stop it.\n",
        "e. **CRITICAL**: Severe errors that may cause the program to crash.\n",
        "\n",
        "These levels help control the verbosity of the logs.\n",
        "\n",
        "18. What is the difference between os.fork() and multiprocessing in Python?\n",
        ">>> - **`os.fork()`**: Low-level, Unix-only, creates a child process sharing memory.\n",
        "- **`multiprocessing`**: High-level, cross-platform, creates independent processes with separate memory.\n",
        "\n",
        "19. What is the importance of closing a file in Python?\n",
        ">>> Closing a file in Python is important because it ensures that all changes are saved, resources are released, and the file is properly freed for other processes. Failing to close a file can lead to memory leaks or data corruption.\n",
        "\n",
        "Using the **`with`** statement automatically handles file closing.\n",
        "\n",
        "20. What is the difference between file.read() and file.readline() in Python?\n",
        ">>> - **`file.read()`**: Reads the entire content of the file at once and returns it as a string.\n",
        "  \n",
        "- **`file.readline()`**: Reads one line at a time from the file and returns it as a string.\n",
        "\n",
        "In short:\n",
        "- **`read()`**: Reads the whole file.\n",
        "- **`readline()`**: Reads one line at a time.\n",
        "\n",
        "21. What is the logging module in Python used for ?\n",
        ">>> The **logging** module in Python is used to track and record events, errors, and information during program execution. It helps with debugging, monitoring, and maintaining applications by writing log messages at different severity levels (e.g., DEBUG, INFO, ERROR).\n",
        "\n",
        "In short, the **logging** module helps manage and output log messages for better program visibility and error tracking.\n",
        "\n",
        "22. What is the os module in Python used for in file handling?\n",
        ">>> The **`os`** module in Python is used for interacting with the operating system, particularly for file handling tasks such as:\n",
        "\n",
        "- Creating, deleting, and renaming files and directories.\n",
        "- Checking file existence and properties (e.g., permissions).\n",
        "- Navigating the file system (changing directories).\n",
        "\n",
        "In short, the **`os`** module provides functions to manipulate files and directories at the system level.\n",
        "\n",
        "23. What are the challenges associated with memory management in Python?\n",
        ">>> Challenges associated with memory management in Python include:\n",
        "\n",
        "a. **Garbage Collection Overhead**: The garbage collector can introduce performance overhead, especially when dealing with large numbers of objects or circular references.\n",
        "  \n",
        "b. **Reference Counting Limitations**: While reference counting helps manage memory, it can't handle circular references, which require garbage collection to resolve.\n",
        "\n",
        "c. **Memory Leaks**: Improper object references or failure to release resources can lead to memory leaks.\n",
        "\n",
        "In short, memory management in Python can have performance overhead and may require careful handling to avoid leaks and inefficiencies.\n",
        "\n",
        "24. How do you raise an exception manually in Python?\n",
        ">>> You can raise an exception manually in Python using the **`raise`** keyword followed by the exception type.\n",
        "\n",
        "Example:\n",
        "raise ValueError(\"This is a custom error message\")\n",
        "In short, use **`raise`** to trigger an exception manually.\n",
        "\n",
        "25. Why is it important to use multithreading in certain applications?\n",
        ">>> Multithreading is important in certain applications because it allows multiple tasks to run concurrently, improving efficiency, especially in I/O-bound tasks (like file reading or network requests). It helps maximize CPU utilization, reduces wait times, and keeps the program responsive.\n",
        "\n",
        "In short, multithreading enhances performance by executing multiple tasks simultaneously, especially for I/O-bound operations."
      ],
      "metadata": {
        "id": "uYxgwPIVtDI9"
      }
    },
    {
      "cell_type": "code",
      "source": [
        "#Practical questions"
      ],
      "metadata": {
        "id": "abueE7fA0FyQ"
      },
      "execution_count": 7,
      "outputs": []
    },
    {
      "cell_type": "code",
      "source": [
        "#1 How can you open a file for writing in Python and write a string to it?\n",
        "f =open(\"example.text\",\"w\")\n",
        "f.write(\"hello world\")\n",
        "f.close()"
      ],
      "metadata": {
        "id": "Ea50CRcb0KH5"
      },
      "execution_count": 8,
      "outputs": []
    },
    {
      "cell_type": "code",
      "source": [
        "#2 Write a Python program to read the contents of a file and print each line ?\n",
        "f =open(\"example.text\",\"r\")\n",
        "print(f.read())\n",
        "f.close()"
      ],
      "metadata": {
        "colab": {
          "base_uri": "https://localhost:8080/"
        },
        "id": "PD8HGi-H0Nmu",
        "outputId": "67826b26-cc60-477f-d8f8-88b50d95e273"
      },
      "execution_count": 9,
      "outputs": [
        {
          "output_type": "stream",
          "name": "stdout",
          "text": [
            "hello world\n"
          ]
        }
      ]
    },
    {
      "cell_type": "code",
      "source": [
        "#3 How would you handle a case where the file doesn't exist while trying to open it for reading?\n",
        "try:\n",
        "    with open(\"file.txt\", \"r\") as file:\n",
        "        content = file.read()\n",
        "except FileNotFoundError:\n",
        "    print(\"The file does not exist.\")\n"
      ],
      "metadata": {
        "colab": {
          "base_uri": "https://localhost:8080/"
        },
        "id": "j_n0fpwm0OFL",
        "outputId": "0b1d5e71-cd5b-45b5-e747-750df277065b"
      },
      "execution_count": 10,
      "outputs": [
        {
          "output_type": "stream",
          "name": "stdout",
          "text": [
            "The file does not exist.\n"
          ]
        }
      ]
    },
    {
      "source": [
        "#4 Write a Python script that reads from one file and writes its content to another file\n",
        "# First, create the 'file1.txt' if it doesn't exist and write some content to it.\n",
        "try:\n",
        "    with open(\"file1.txt\", \"w\") as file1:  # Open in write mode to create it\n",
        "        file1.write(\"This is the content of file1.\")  # Write some initial content\n",
        "except Exception as e:\n",
        "    print(f\"Error creating file1.txt: {e}\")\n",
        "\n",
        "# Now, proceed with reading from 'file1.txt' and writing to 'file2.txt'\n",
        "try:\n",
        "    with open(\"file1.txt\", \"r\") as file1:\n",
        "        content = file1.read()\n",
        "except FileNotFoundError:\n",
        "    print(\"The file 'file1.txt' does not exist. Please create it first.\")\n",
        "else:\n",
        "    try:\n",
        "        with open(\"file2.txt\", \"w\") as file2:\n",
        "            file2.write(content)\n",
        "    except Exception as e:\n",
        "        print(f\"Error writing to file2.txt: {e}\")\n",
        "    else:\n",
        "        print(\"Content copied from file1.txt to file2.txt successfully.\")"
      ],
      "cell_type": "code",
      "metadata": {
        "colab": {
          "base_uri": "https://localhost:8080/"
        },
        "id": "uCYNFA34-2Ch",
        "outputId": "b40e61f9-a1fe-4070-95b3-4071e79809d9"
      },
      "execution_count": 11,
      "outputs": [
        {
          "output_type": "stream",
          "name": "stdout",
          "text": [
            "Content copied from file1.txt to file2.txt successfully.\n"
          ]
        }
      ]
    },
    {
      "cell_type": "code",
      "source": [
        "#5 How would you catch and handle division by zero error in Python\n",
        "try:\n",
        "  15/0\n",
        "except ZeroDivisionError as e:\n",
        "  print(\"Cannot divide by zero\")"
      ],
      "metadata": {
        "colab": {
          "base_uri": "https://localhost:8080/"
        },
        "id": "ja4PK-i90QOq",
        "outputId": "e540b221-7ca1-4437-d5b9-8b75b26cf4b8"
      },
      "execution_count": 12,
      "outputs": [
        {
          "output_type": "stream",
          "name": "stdout",
          "text": [
            "Cannot divide by zero\n"
          ]
        }
      ]
    },
    {
      "cell_type": "code",
      "source": [
        "#6 Write a Python program that logs an error message to a log file when a division by zero exception occurs\n",
        "import logging\n",
        "\n",
        "# Set up logging configuration\n",
        "logging.basicConfig(filename=\"error_log.txt\", level=logging.ERROR)\n",
        "\n",
        "try:\n",
        "    result = 10 / 0\n",
        "except ZeroDivisionError as e:\n",
        "    logging.error(\"Error occurred: %s\", e)\n",
        "\n"
      ],
      "metadata": {
        "colab": {
          "base_uri": "https://localhost:8080/"
        },
        "id": "IRa_CbDu0QxK",
        "outputId": "0f2a46a1-95d3-45b8-c0e8-02029176b9d1"
      },
      "execution_count": 13,
      "outputs": [
        {
          "output_type": "stream",
          "name": "stderr",
          "text": [
            "ERROR:root:Error occurred: division by zero\n"
          ]
        }
      ]
    },
    {
      "cell_type": "code",
      "source": [
        "#7 How do you log information at different levels (INFO, ERROR, WARNING) in Python using the logging module\n",
        "import logging\n",
        "\n",
        "# Set up logging configuration\n",
        "logging.basicConfig(level=logging.DEBUG, filename=\"app.log\", filemode=\"w\")\n",
        "\n",
        "# Log messages at different levels\n",
        "logging.debug(\"This is a DEBUG message.\")\n",
        "logging.info(\"This is an INFO message.\")\n",
        "logging.warning(\"This is a WARNING message.\")\n",
        "logging.error(\"This is an ERROR message.\")\n",
        "logging.critical(\"This is a CRITICAL message.\")\n"
      ],
      "metadata": {
        "colab": {
          "base_uri": "https://localhost:8080/"
        },
        "id": "HTiisv2g0RKp",
        "outputId": "7566743d-b2ea-41fd-841a-0cbc3e624906"
      },
      "execution_count": 14,
      "outputs": [
        {
          "output_type": "stream",
          "name": "stderr",
          "text": [
            "WARNING:root:This is a WARNING message.\n",
            "ERROR:root:This is an ERROR message.\n",
            "CRITICAL:root:This is a CRITICAL message.\n"
          ]
        }
      ]
    },
    {
      "cell_type": "code",
      "source": [
        "#8 Write a program to handle a file opening error using exception handling\n",
        "try:\n",
        "    # Attempt to open a file that may not exist\n",
        "    with open(\"non_existent_file.txt\", \"r\") as file:\n",
        "        content = file.read()\n",
        "except FileNotFoundError:\n",
        "    print(\"Error: The file does not exist.\")\n",
        "except IOError:\n",
        "    print(\"Error: There was an issue with the file input/output.\")\n"
      ],
      "metadata": {
        "colab": {
          "base_uri": "https://localhost:8080/"
        },
        "id": "U_-hkD2o0Rjz",
        "outputId": "67265d65-1646-4404-9beb-1df37cf3ce0c"
      },
      "execution_count": 15,
      "outputs": [
        {
          "output_type": "stream",
          "name": "stdout",
          "text": [
            "Error: The file does not exist.\n"
          ]
        }
      ]
    },
    {
      "source": [
        "#9 How can you read a file line by line and store its content in a list in Python\n",
        "try:\n",
        "    with open(\"example.txt\", \"r\") as file:\n",
        "        lines = file.readlines()  # Reads all lines and stores them in a list\n",
        "\n",
        "    # To remove the newline character at the end of each line, you can use list comprehension:\n",
        "    lines = [line.strip() for line in lines]\n",
        "\n",
        "    print(lines)\n",
        "except FileNotFoundError:\n",
        "    print(\"The file 'example.txt' was not found. Please make sure it exists and is in the correct directory.\")"
      ],
      "cell_type": "code",
      "metadata": {
        "colab": {
          "base_uri": "https://localhost:8080/"
        },
        "id": "4pJt9zy9Db5A",
        "outputId": "d1184c58-a9b0-4843-acaf-e0c1244e630b"
      },
      "execution_count": 16,
      "outputs": [
        {
          "output_type": "stream",
          "name": "stdout",
          "text": [
            "['This is the new data that will be appended.', 'You can append more lines as well.']\n"
          ]
        }
      ]
    },
    {
      "cell_type": "code",
      "source": [
        "#10 How can you append data to an existing file in Python\n",
        "# Open the file in append mode ('a')\n",
        "with open('example.txt', 'a') as file:\n",
        "    file.write('This is the new data that will be appended.\\n')\n",
        "    file.write('You can append more lines as well.\\n')\n",
        "\n",
        "print(\"Data appended successfully.\")\n"
      ],
      "metadata": {
        "id": "87AyXPCb0SZM",
        "colab": {
          "base_uri": "https://localhost:8080/"
        },
        "outputId": "a5121b67-2b3b-4a0c-9434-dffdf1753974"
      },
      "execution_count": 17,
      "outputs": [
        {
          "output_type": "stream",
          "name": "stdout",
          "text": [
            "Data appended successfully.\n"
          ]
        }
      ]
    },
    {
      "cell_type": "code",
      "source": [
        "#11 Write a Python program that uses a try-except block to handle an error when attempting to access a dictionary key that doesn't exist\n",
        "my_dict = {'a': 1, 'b': 2, 'c': 3}\n",
        "\n",
        "try:\n",
        "    value = my_dict['d']  # Attempt to access a non-existent key 'd'\n",
        "    print(\"Value:\", value)\n",
        "except KeyError:\n",
        "    print(\"Error: The key 'd' does not exist in the dictionary.\")"
      ],
      "metadata": {
        "id": "7bNzT0vK0S6u",
        "colab": {
          "base_uri": "https://localhost:8080/"
        },
        "outputId": "cb852840-2bcf-40e3-f7f6-4bea1c0a78b9"
      },
      "execution_count": 18,
      "outputs": [
        {
          "output_type": "stream",
          "name": "stdout",
          "text": [
            "Error: The key 'd' does not exist in the dictionary.\n"
          ]
        }
      ]
    },
    {
      "cell_type": "code",
      "source": [
        "#12 Write a program that demonstrates using multiple except blocks to handle different types of exceptions\n",
        "try:\n",
        "    result = 10 / 0  # This will raise a ZeroDivisionError\n",
        "except ZeroDivisionError:\n",
        "    print(\"Error: Division by zero is not allowed.\")\n",
        "except ValueError:\n",
        "    print(\"Error: Invalid value encountered.\")\n",
        ""
      ],
      "metadata": {
        "id": "HyD2mZyu0TWx",
        "colab": {
          "base_uri": "https://localhost:8080/"
        },
        "outputId": "e3892d55-203f-4490-e3b7-b17240362df4"
      },
      "execution_count": 19,
      "outputs": [
        {
          "output_type": "stream",
          "name": "stdout",
          "text": [
            "Error: Division by zero is not allowed.\n"
          ]
        }
      ]
    },
    {
      "cell_type": "code",
      "source": [
        "#13 How would you check if a file exists before attempting to read it in Python\n",
        "import os\n",
        "\n",
        "file_path = \"example.txt\"  # Replace with the path to your file\n",
        "\n",
        "if os.path.exists(file_path):\n",
        "    with open(file_path, \"r\") as file:\n",
        "        content = file.read()"
      ],
      "metadata": {
        "id": "eqeaeXT10Txt"
      },
      "execution_count": 20,
      "outputs": []
    },
    {
      "cell_type": "code",
      "source": [
        "#14 Write a program that uses the logging module to log both informational and error messages\n",
        "import logging\n",
        "\n",
        "# Configure the logging system\n",
        "logging.basicConfig(filename=\"app.log\", level=logging.INFO, format=\"%(asctime)s - %(levelname)s - %(message)s\")\n",
        "\n",
        "# Log an informational message\n",
        "logging.info(\"This is an informational message.\")\n"
      ],
      "metadata": {
        "id": "AbGR7vwr0ULr"
      },
      "execution_count": 21,
      "outputs": []
    },
    {
      "cell_type": "code",
      "source": [
        "#15 Write a Python program that prints the content of a file and handles the case when the file is empty\n",
        "try:\n",
        "    with open(\"example.txt\", \"r\") as file:\n",
        "        content = file.read()\n",
        "        if not content:\n",
        "            print(\"The file is empty.\")\n",
        "        else:\n",
        "            print(\"File content:\")\n",
        "            print(\"content\")\n",
        "\n",
        "except FileNotFoundError:\n",
        "    print(\"The file 'example.txt' was not found. Please make sure it exists and is in the correct directory.\")\n",
        "except Exception as e:\n",
        "    print(f\"An error occurred: {e}\")"
      ],
      "metadata": {
        "id": "uGH6fybi0UmW",
        "colab": {
          "base_uri": "https://localhost:8080/"
        },
        "outputId": "4b7cb68c-ec76-4be9-af59-4195691b6912"
      },
      "execution_count": 24,
      "outputs": [
        {
          "output_type": "stream",
          "name": "stdout",
          "text": [
            "File content:\n",
            "content\n"
          ]
        }
      ]
    },
    {
      "cell_type": "code",
      "source": [
        "#16 Demonstrate how to use memory profiling to check the memory usage of a small program\n",
        "!pip install memory_profiler\n",
        "\n",
        "from memory_profiler import profile\n",
        "\n",
        "@profile\n",
        "def my_function():\n",
        "    a = [i for i in range(10000)]  # Create a large list\n",
        "    b = [i * 2 for i in a]         # Create another list based on 'a'\n",
        "    c = sum(b)                     # Calculate the sum of elements in 'b'\n",
        "    return c\n",
        "\n",
        "if __name__ == \"__main__\":\n",
        "    my_function()\n",
        "\n",
        "!python -m memory_profiler memory_test.py\n",
        "\n",
        "\n"
      ],
      "metadata": {
        "id": "TZ5NoSne0Vdl",
        "colab": {
          "base_uri": "https://localhost:8080/"
        },
        "outputId": "0ee723e3-2234-40f9-b37f-d4f76c98b6e8"
      },
      "execution_count": 28,
      "outputs": [
        {
          "output_type": "stream",
          "name": "stdout",
          "text": [
            "Requirement already satisfied: memory_profiler in /usr/local/lib/python3.10/dist-packages (0.61.0)\n",
            "Requirement already satisfied: psutil in /usr/local/lib/python3.10/dist-packages (from memory_profiler) (5.9.5)\n",
            "ERROR: Could not find file <ipython-input-28-136db924e43b>\n",
            "NOTE: %mprun can only be used on functions defined in physical files, and not in the IPython environment.\n",
            "Could not find script memory_test.py\n"
          ]
        }
      ]
    },
    {
      "cell_type": "code",
      "source": [
        "#17 Write a Python program to create and write a list of numbers to a file, one number per line\n",
        "try:\n",
        "    with open(\"numbers.txt\", \"w\") as file:\n",
        "        numbers = [1, 2, 3, 4, 5]  # List of numbers to write\n",
        "        for num in numbers:\n",
        "            file.write(str(num) + \"\\n\")\n",
        "except Exception as e:\n",
        "    print(f\"An error occurred: {e}\")\n",
        ""
      ],
      "metadata": {
        "id": "djSLzBK60W9j"
      },
      "execution_count": 30,
      "outputs": []
    },
    {
      "cell_type": "code",
      "source": [
        "#18 How would you implement a basic logging setup that logs to a file with rotation after 1MB\n",
        "import logging\n",
        "from logging.handlers import RotatingFileHandler\n",
        "\n",
        "# Set up the basic configuration for logging\n",
        "def setup_logger():\n",
        "    # Define the log file name\n",
        "    log_file = 'my_log.log'\n",
        "\n",
        "    # Create a RotatingFileHandler that will rotate the log file after it reaches 1MB\n",
        "    handler = RotatingFileHandler(log_file, maxBytes=1 * 1024 * 1024, backupCount=3)\n",
        "\n",
        "    # Create a logger\n",
        "    logger = logging.getLogger()\n",
        "\n",
        "    # Set the logging level to INFO (you can use DEBUG, ERROR, etc.)\n",
        "    logger.setLevel(logging.INFO)\n",
        "\n",
        "    # Create a log formatter\n",
        "    formatter = logging.Formatter('%(asctime)s - %(levelname)s - %(message)s')\n",
        "\n",
        "    # Add the formatter to the handler\n",
        "    handler.setFormatter(formatter)\n",
        "\n",
        "    # Add the handler to the logger\n",
        "    logger.addHandler(handler)\n",
        "\n",
        "    return logger\n",
        "\n",
        "# Example usage of the logger\n",
        "def main():\n",
        "    # Set up the logger\n",
        "    logger = setup_logger()\n",
        "\n",
        "    # Log some messages\n",
        "    logger.info(\"This is an info message.\")\n",
        "    logger.debug(\"This is a debug message.\")\n",
        "    logger.warning(\"This is a warning message.\")\n",
        "    logger.error(\"This is an error message.\")\n",
        "    logger.critical(\"This is a critical message.\")\n",
        "\n",
        "if __name__ == \"__main__\":\n",
        "    main()\n",
        "\n"
      ],
      "metadata": {
        "id": "SN3IdKW10Yw5",
        "colab": {
          "base_uri": "https://localhost:8080/"
        },
        "outputId": "d0f9cd86-55ce-4cee-b813-a6e3fec16873"
      },
      "execution_count": 31,
      "outputs": [
        {
          "output_type": "stream",
          "name": "stderr",
          "text": [
            "INFO:root:This is an info message.\n",
            "WARNING:root:This is a warning message.\n",
            "ERROR:root:This is an error message.\n",
            "CRITICAL:root:This is a critical message.\n"
          ]
        }
      ]
    },
    {
      "cell_type": "code",
      "source": [
        "#19 Write a program that handles both IndexError and KeyError using a try-except block\n",
        "def handle_errors():\n",
        "    # Example data structures\n",
        "    my_list = [10, 20, 30, 40]\n",
        "    my_dict = {'a': 1, 'b': 2, 'c': 3}\n",
        "\n",
        "    try:\n",
        "        # Trying to access an invalid index in the list (IndexError)\n",
        "        print(my_list[5])  # IndexError: List index out of range\n",
        "\n",
        "        # Trying to access a non-existing key in the dictionary (KeyError)\n",
        "        print(my_dict['d'])  # KeyError: 'd' not found\n",
        "\n",
        "    except IndexError as e:\n",
        "        print(f\"IndexError occurred: {e}\")\n",
        "\n",
        "    except KeyError as e:\n",
        "        print(f\"KeyError occurred: {e}\")\n",
        "\n",
        "    else:\n",
        "        print(\"No errors occurred!\")\n",
        "\n",
        "    finally:\n",
        "        print(\"Execution complete.\")\n",
        "\n",
        "# Call the function\n",
        "handle_errors()\n",
        "\n"
      ],
      "metadata": {
        "id": "AzOkc9s50aX7",
        "colab": {
          "base_uri": "https://localhost:8080/"
        },
        "outputId": "684b2d66-fdd1-4463-d4bf-68c0a5de1995"
      },
      "execution_count": 32,
      "outputs": [
        {
          "output_type": "stream",
          "name": "stdout",
          "text": [
            "IndexError occurred: list index out of range\n",
            "Execution complete.\n"
          ]
        }
      ]
    },
    {
      "cell_type": "code",
      "source": [
        "#20  How would you open a file and read its contents using a context manager in Python\n",
        "try:\n",
        "    with open(\"example.txt\", \"r\") as file:\n",
        "        content = file.read()\n",
        "        print(content)\n",
        "except FileNotFoundError:\n",
        "    print(\"The file 'example.txt' was not found. Please make sure it exists and is in the correct directory.\")\n",
        "except Exception as e:\n",
        "    print(f\"An error occurred: {e}\")"
      ],
      "metadata": {
        "id": "ClhVEE610a6l",
        "colab": {
          "base_uri": "https://localhost:8080/"
        },
        "outputId": "3e94ab78-9bd4-4764-c7b0-943d89907545"
      },
      "execution_count": 33,
      "outputs": [
        {
          "output_type": "stream",
          "name": "stdout",
          "text": [
            "This is the new data that will be appended.\n",
            "You can append more lines as well.\n",
            "This is the new data that will be appended.\n",
            "You can append more lines as well.\n",
            "\n"
          ]
        }
      ]
    },
    {
      "cell_type": "code",
      "source": [
        "#21  Write a Python program that reads a file and prints the number of occurrences of a specific word\n",
        "try:\n",
        "    with open(\"example.txt\", \"r\") as file:\n",
        "        content = file.read()\n",
        "        word_to_count = \"hello\"\n",
        "        word_count = content.count(word_to_count)\n",
        "        print(f\"The word '{word_to_count}' appears {word_count} times in the file.\")\n",
        "except FileNotFoundError:\n",
        "    print(\"The file 'example.txt' was not found. Please make sure it exists and is in the correct directory.\")"
      ],
      "metadata": {
        "id": "DcfHcw860bxf",
        "colab": {
          "base_uri": "https://localhost:8080/"
        },
        "outputId": "b1ba5c04-78ea-413a-966f-1f2c2ac108b5"
      },
      "execution_count": 34,
      "outputs": [
        {
          "output_type": "stream",
          "name": "stdout",
          "text": [
            "The word 'hello' appears 0 times in the file.\n"
          ]
        }
      ]
    },
    {
      "cell_type": "code",
      "source": [
        "#22 How can you check if a file is empty before attempting to read its contents\n",
        "import os\n",
        "\n",
        "def check_if_file_is_empty(file_path):\n",
        "    # Check if the file exists and is empty\n",
        "    if os.path.exists(file_path) and os.path.getsize(file_path) == 0:\n",
        "        print(f\"The file {file_path} is empty.\")\n",
        "    elif os.path.exists(file_path):\n",
        "        print(f\"The file {file_path} is not empty.\")\n",
        "    else:\n",
        "        print(f\"The file {file_path} does not exist.\")\n",
        "\n",
        "# Example usage\n",
        "file_path = 'example.txt'\n",
        "check_if_file_is_empty(file_path)\n",
        "\n",
        "\n"
      ],
      "metadata": {
        "id": "JmHfHThx0cXS",
        "colab": {
          "base_uri": "https://localhost:8080/"
        },
        "outputId": "328e9290-1361-4dc6-f654-97f6cdfc7d27"
      },
      "execution_count": 35,
      "outputs": [
        {
          "output_type": "stream",
          "name": "stdout",
          "text": [
            "The file example.txt is not empty.\n"
          ]
        }
      ]
    },
    {
      "cell_type": "code",
      "source": [
        "#23  Write a Python program that writes to a log file when an error occurs during file handling\n",
        "import logging\n",
        "\n",
        "# Set up logging configuration\n",
        "logging.basicConfig(\n",
        "    filename='file_error.log',  # Log file where errors will be written\n",
        "    level=logging.ERROR,        # Only log ERROR level and above\n",
        "    format='%(asctime)s - %(levelname)s - %(message)s',  # Log format with timestamp\n",
        ")\n",
        "\n",
        "def handle_file_operations(file_path):\n",
        "    try:\n",
        "        # Attempt to open and read a file\n",
        "        with open(file_path, 'r') as file:\n",
        "            content = file.read()\n",
        "            print(content)\n",
        "\n",
        "    except FileNotFoundError as e:\n",
        "        # Log the error if the file is not found\n",
        "        logging.error(f\"FileNotFoundError: {e}\")\n",
        "        print(f\"Error: The file '{file_path}' does not exist.\")\n",
        "\n",
        "    except IOError as e:\n",
        "        # Log other I/O errors\n",
        "        logging.error(f\"IOError: {e}\")\n",
        "        print(f\"Error: An I/O error occurred while handling the file.\")\n",
        "\n",
        "    except Exception as e:\n",
        "        # Catch all other exceptions and log them\n",
        "        logging.error(f\"Unexpected error: {e}\")\n",
        "        print(f\"Error: An unexpected error occurred: {e}\")\n",
        "\n",
        "# Example usage of the function\n",
        "file_path = 'example.txt'\n",
        "handle_file_operations(file_path)\n"
      ],
      "metadata": {
        "id": "LI3LZIEX0cv7",
        "colab": {
          "base_uri": "https://localhost:8080/"
        },
        "outputId": "90a92c58-4307-4145-fb9a-93be797f1030"
      },
      "execution_count": 36,
      "outputs": [
        {
          "output_type": "stream",
          "name": "stdout",
          "text": [
            "This is the new data that will be appended.\n",
            "You can append more lines as well.\n",
            "This is the new data that will be appended.\n",
            "You can append more lines as well.\n",
            "\n"
          ]
        }
      ]
    }
  ]
}